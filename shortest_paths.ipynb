{
 "cells": [
  {
   "cell_type": "markdown",
   "id": "0a9f9525-508e-4725-b3d8-c4926f51a7d2",
   "metadata": {},
   "source": [
    "## Реализация поиска кратчайших путей"
   ]
  },
  {
   "cell_type": "code",
   "execution_count": 9,
   "id": "57c1acbc-50d3-4e35-846d-24a2d1d9abee",
   "metadata": {},
   "outputs": [],
   "source": [
    "import random\n",
    "import numpy as np\n",
    "import graphblas as gb\n",
    "from graphblas import Matrix, Vector\n",
    "from graphblas import binary, semiring, dtypes\n",
    "from graphblas.io import mmread"
   ]
  },
  {
   "cell_type": "code",
   "execution_count": 2,
   "id": "0e4a1140-58a2-4d2d-87fd-48ebdca88d6f",
   "metadata": {},
   "outputs": [
    {
     "data": {
      "text/html": [
       "<div>\n",
       "<style>\n",
       "table.gb-info-table {\n",
       "    border: 1px solid black;\n",
       "    max-width: 100%;\n",
       "    margin-top: 0px;\n",
       "    margin-bottom: 0px;\n",
       "    padding-top: 0px;\n",
       "    padding-bottom: 0px;\n",
       "}\n",
       "\n",
       "td.gb-info-name-cell {\n",
       "    white-space: nowrap;\n",
       "}\n",
       "\n",
       "details.gb-arg-details {\n",
       "    margin-top: 0px;\n",
       "    margin-bottom: 0px;\n",
       "    padding-top: 0px;\n",
       "    padding-bottom: 5px;\n",
       "    margin-left: 10px;\n",
       "}\n",
       "\n",
       "summary.gb-arg-summary {\n",
       "    display: list-item;\n",
       "    outline: none;\n",
       "    margin-top: 0px;\n",
       "    margin-bottom: 0px;\n",
       "    padding-top: 0px;\n",
       "    padding-bottom: 0px;\n",
       "    margin-left: -10px;\n",
       "}\n",
       "\n",
       "details.gb-expr-details {\n",
       "    margin-top: 0px;\n",
       "    margin-bottom: 0px;\n",
       "    padding-top: 0px;\n",
       "    padding-bottom: 5px;\n",
       "}\n",
       "\n",
       "summary.gb-expr-summary {\n",
       "    display: list-item;\n",
       "    outline: none;\n",
       "    margin-top: 0px;\n",
       "    margin-bottom: 0px;\n",
       "    padding-top: 0px;\n",
       "    padding-bottom: 0px;\n",
       "}\n",
       "\n",
       "blockquote.gb-expr-blockquote {\n",
       "    margin-top: 5px;\n",
       "    margin-bottom: 0px;\n",
       "    padding-top: 0px;\n",
       "    padding-bottom: 0px;\n",
       "    margin-left: 15px;\n",
       "}\n",
       "\n",
       ".gb-scalar {\n",
       "    margin-top: 0px;\n",
       "    margin-bottom: 0px;\n",
       "    padding-top: 0px;\n",
       "    padding-bottom: 5px;\n",
       "}\n",
       "\n",
       "/* modify pandas dataframe */\n",
       "table.dataframe {\n",
       "    margin-top: 0px;\n",
       "    margin-bottom: 0px;\n",
       "    padding-top: 0px;\n",
       "    padding-bottom: 0px;\n",
       "}\n",
       "\n",
       "/* expression tooltips */\n",
       ".expr-tooltip .tooltip-circle {\n",
       "    background: #9a9cc6;\n",
       "    color: #fff;\n",
       "    border-radius: 50%;\n",
       "    width: 40px;\n",
       "    height: 40px;\n",
       "    padding-left: 4px;\n",
       "    padding-right: 4px;\n",
       "}\n",
       ".expr-tooltip .tooltip-text {\n",
       "    visibility: hidden;\n",
       "    position: absolute;\n",
       "    width: 450px;\n",
       "    background: #eef;\n",
       "    border: 1px solid #99a;\n",
       "    text-align: left;\n",
       "    border-radius: 6px;\n",
       "    padding: 3px 3px 3px 8px;\n",
       "    margin-left: 6px;\n",
       "}\n",
       ".expr-tooltip:hover .tooltip-text {\n",
       "    visibility: visible;\n",
       "}\n",
       ".expr-tooltip code {\n",
       "    background-color: #f8ffed;\n",
       "}\n",
       "</style>\n",
       "<details open class=\"gb-arg-details\"><summary class=\"gb-arg-summary\"><tt>M<sub>0</sub></tt><div>\n",
       "<table class=\"gb-info-table\">\n",
       "  <tr>\n",
       "    <td rowspan=\"2\" class=\"gb-info-name-cell\"><pre>gb.Matrix</pre></td>\n",
       "    <td><pre>nvals</pre></td>\n",
       "    <td><pre>nrows</pre></td>\n",
       "    <td><pre>ncols</pre></td>\n",
       "    <td><pre>dtype</pre></td>\n",
       "    <td><pre>format</pre></td>\n",
       "  </tr>\n",
       "  <tr>\n",
       "    <td>12</td>\n",
       "    <td>7</td>\n",
       "    <td>7</td>\n",
       "    <td>INT64</td>\n",
       "    <td>bitmapr</td>\n",
       "  </tr>\n",
       "</table>\n",
       "</div>\n",
       "</summary><div>\n",
       "<style scoped>\n",
       "    .dataframe tbody tr th:only-of-type {\n",
       "        vertical-align: middle;\n",
       "    }\n",
       "\n",
       "    .dataframe tbody tr th {\n",
       "        vertical-align: top;\n",
       "    }\n",
       "\n",
       "    .dataframe thead th {\n",
       "        text-align: right;\n",
       "    }\n",
       "</style>\n",
       "<table border=\"1\" class=\"dataframe\">\n",
       "  <thead>\n",
       "    <tr style=\"text-align: right;\">\n",
       "      <th></th>\n",
       "      <th>0</th>\n",
       "      <th>1</th>\n",
       "      <th>2</th>\n",
       "      <th>3</th>\n",
       "      <th>4</th>\n",
       "      <th>5</th>\n",
       "      <th>6</th>\n",
       "    </tr>\n",
       "  </thead>\n",
       "  <tbody>\n",
       "    <tr>\n",
       "      <th>0</th>\n",
       "      <td></td>\n",
       "      <td>2</td>\n",
       "      <td></td>\n",
       "      <td>3</td>\n",
       "      <td></td>\n",
       "      <td></td>\n",
       "      <td></td>\n",
       "    </tr>\n",
       "    <tr>\n",
       "      <th>1</th>\n",
       "      <td></td>\n",
       "      <td></td>\n",
       "      <td></td>\n",
       "      <td></td>\n",
       "      <td>8</td>\n",
       "      <td></td>\n",
       "      <td>4</td>\n",
       "    </tr>\n",
       "    <tr>\n",
       "      <th>2</th>\n",
       "      <td></td>\n",
       "      <td></td>\n",
       "      <td></td>\n",
       "      <td></td>\n",
       "      <td></td>\n",
       "      <td>1</td>\n",
       "      <td></td>\n",
       "    </tr>\n",
       "    <tr>\n",
       "      <th>3</th>\n",
       "      <td>3</td>\n",
       "      <td></td>\n",
       "      <td>3</td>\n",
       "      <td></td>\n",
       "      <td></td>\n",
       "      <td></td>\n",
       "      <td></td>\n",
       "    </tr>\n",
       "    <tr>\n",
       "      <th>4</th>\n",
       "      <td></td>\n",
       "      <td></td>\n",
       "      <td></td>\n",
       "      <td></td>\n",
       "      <td></td>\n",
       "      <td>7</td>\n",
       "      <td></td>\n",
       "    </tr>\n",
       "    <tr>\n",
       "      <th>5</th>\n",
       "      <td></td>\n",
       "      <td></td>\n",
       "      <td>1</td>\n",
       "      <td></td>\n",
       "      <td></td>\n",
       "      <td></td>\n",
       "      <td></td>\n",
       "    </tr>\n",
       "    <tr>\n",
       "      <th>6</th>\n",
       "      <td></td>\n",
       "      <td></td>\n",
       "      <td>5</td>\n",
       "      <td>7</td>\n",
       "      <td>3</td>\n",
       "      <td></td>\n",
       "      <td></td>\n",
       "    </tr>\n",
       "  </tbody>\n",
       "</table>\n",
       "</div></details></div>"
      ],
      "text/plain": [
       "\"M_0\"      nvals  nrows  ncols  dtype   format\n",
       "gb.Matrix     12      7      7  INT64  bitmapr\n",
       "----------------------------------------------\n",
       "   0  1  2  3  4  5  6\n",
       "0     2     3         \n",
       "1              8     4\n",
       "2                 1   \n",
       "3  3     3            \n",
       "4                 7   \n",
       "5        1            \n",
       "6        5  7  3      "
      ]
     },
     "execution_count": 2,
     "metadata": {},
     "output_type": "execute_result"
    }
   ],
   "source": [
    "data = [\n",
    "    [3, 0, 3, 5, 6, 0, 6, 1, 6, 2, 4, 1],\n",
    "    [0, 1, 2, 2, 2, 3, 3, 4, 4, 5, 5, 6],\n",
    "    [3, 2, 3, 1, 5, 3, 7, 8, 3, 1, 7, 4],\n",
    "]\n",
    "\n",
    "rows, cols, weights = data\n",
    "A = Matrix.from_coo(rows, cols, weights)\n",
    "A"
   ]
  },
  {
   "cell_type": "code",
   "execution_count": 11,
   "id": "cd796ba2-3773-4c3b-8ec9-f17202173898",
   "metadata": {},
   "outputs": [
    {
     "data": {
      "image/png": "[encoded data removed]",
      "text/plain": [
       "<Figure size 640x480 with 1 Axes>"
      ]
     },
     "metadata": {},
     "output_type": "display_data"
    }
   ],
   "source": [
    "gb.viz.draw(A)"
   ]
  },
  {
   "cell_type": "markdown",
   "id": "d605f1fe-41e3-4fd0-82e0-49b45d093c70",
   "metadata": {},
   "source": [
    "### Bellman–Ford"
   ]
  },
  {
   "attachments": {
    "f29668d2-7cce-4bc6-99a0-c4e6d62cdd46.png": {
     "image/png": "[encoded data removed]"
    }
   },
   "cell_type": "markdown",
   "id": "8223ccc1-8fae-4047-82e6-2e210d1df0e5",
   "metadata": {},
   "source": [
    "![image.png](attachment:f29668d2-7cce-4bc6-99a0-c4e6d62cdd46.png)"
   ]
  },
  {
   "cell_type": "code",
   "execution_count": 3,
   "id": "fdc79c00-11f9-4286-a36e-a96a2f413af4",
   "metadata": {},
   "outputs": [
    {
     "data": {
      "text/plain": [
       "array([14,  0,  9, 11,  7, 10,  4], dtype=int64)"
      ]
     },
     "execution_count": 3,
     "metadata": {},
     "output_type": "execute_result"
    }
   ],
   "source": [
    "def bellman_ford(A, s):\n",
    "    n = A.nrows\n",
    "    v = Vector(A.dtype, n)\n",
    "    v[s] << 0\n",
    "    w = v.dup()\n",
    "    while True:\n",
    "        w_old = w.dup()\n",
    "        w(binary.min) << w.vxm(A, semiring.min_plus)\n",
    "        if w.isequal(w_old):\n",
    "            break\n",
    "    for i in range(n):\n",
    "        if w[i].value is None:\n",
    "            w[i] = float('inf')\n",
    "    indices, values = w.to_coo()\n",
    "    return values\n",
    "\n",
    "bellman_ford(A, 1)"
   ]
  },
  {
   "cell_type": "markdown",
   "id": "559aae25-4ca5-497e-a99b-66717c69ee19",
   "metadata": {},
   "source": [
    "Функция возвращает массив, где для каждой вершины указано расстояние до неё от указанной стартовой вершины. Если вершина не достижима или кратчайшего пути для неё не существует, то значение соответствующей ячейки равно float('inf')."
   ]
  },
  {
   "cell_type": "markdown",
   "id": "a6d121fc-b440-43ca-ba6a-e4d3743b27d5",
   "metadata": {},
   "source": [
    "### Модифицированный Bellman–Ford (несколько стартовых вершин)"
   ]
  },
  {
   "cell_type": "code",
   "execution_count": 4,
   "id": "0483abeb-894b-4dd4-945d-70698f03a283",
   "metadata": {},
   "outputs": [
    {
     "data": {
      "text/plain": [
       "[(0, [(0, 0), (1, 2), (2, 6), (3, 3), (4, 9), (5, 7), (6, 6)]),\n",
       " (1, [(0, 14), (1, 0), (2, 9), (3, 11), (4, 7), (5, 10), (6, 4)])]"
      ]
     },
     "execution_count": 4,
     "metadata": {},
     "output_type": "execute_result"
    }
   ],
   "source": [
    "def bellman_ford_modified(A, s):\n",
    "    n = A.nrows\n",
    "    m = len(s)\n",
    "    v = Matrix(dtypes.INT32, nrows=m, ncols=n)\n",
    "    v.build(list(range(m)), s, [0] * m)\n",
    "    w = v.dup()\n",
    "    while True:\n",
    "        w_old = w.dup()\n",
    "        w(binary.min) << w.mxm(A, semiring.min_plus)\n",
    "        if w.isequal(w_old):\n",
    "            break\n",
    "    for i in range(m):\n",
    "        for j in range(n):\n",
    "            if w[i,j].value is None:\n",
    "                w[i,j] = float('inf')\n",
    "    rows, cols, values = w.to_coo()\n",
    "    result = []\n",
    "    for i in range(w.nrows):\n",
    "        row_data = [(col, val) for r, col, val in zip(rows, cols, values) if r == i]\n",
    "        result.append((i, row_data))\n",
    "    return result\n",
    "\n",
    "bellman_ford_modified(A, [0,1])"
   ]
  },
  {
   "cell_type": "markdown",
   "id": "25f5d881-79c7-48bd-a8d0-dc7d7f0d7c4e",
   "metadata": {},
   "source": [
    "Функция возвращает массив пар: вершина, и массив, где для каждой вершины указано расстояние до неё из указанной. "
   ]
  },
  {
   "cell_type": "markdown",
   "id": "75d4aed3-b19b-477c-af83-f95b2aa38b50",
   "metadata": {},
   "source": [
    "### Floyd–Warshall"
   ]
  },
  {
   "attachments": {
    "fe22328f-e564-4c2a-9f6a-e7b0f3bcb7ae.png": {
     "image/png": "[encoded data removed]"
    }
   },
   "cell_type": "markdown",
   "id": "e346579b-e037-4d2c-a855-a23c8a31b20f",
   "metadata": {},
   "source": [
    "![image.png](attachment:fe22328f-e564-4c2a-9f6a-e7b0f3bcb7ae.png)"
   ]
  },
  {
   "cell_type": "code",
   "execution_count": 5,
   "id": "cf197889-5fed-4bc7-9bb8-da2a48b83927",
   "metadata": {},
   "outputs": [
    {
     "data": {
      "text/plain": [
       "[(0, [(0, 0), (1, 2), (2, 6), (3, 3), (4, 9), (5, 7), (6, 6)]),\n",
       " (1, [(0, 14), (1, 0), (2, 9), (3, 11), (4, 7), (5, 10), (6, 4)]),\n",
       " (2,\n",
       "  [(0, 9223372036854775807),\n",
       "   (1, 9223372036854775807),\n",
       "   (2, 0),\n",
       "   (3, 9223372036854775807),\n",
       "   (4, 9223372036854775807),\n",
       "   (5, 1),\n",
       "   (6, 9223372036854775807)]),\n",
       " (3, [(0, 3), (1, 5), (2, 3), (3, 0), (4, 12), (5, 4), (6, 9)]),\n",
       " (4,\n",
       "  [(0, 9223372036854775807),\n",
       "   (1, 9223372036854775807),\n",
       "   (2, 8),\n",
       "   (3, 9223372036854775807),\n",
       "   (4, 0),\n",
       "   (5, 7),\n",
       "   (6, 9223372036854775807)]),\n",
       " (5,\n",
       "  [(0, 9223372036854775807),\n",
       "   (1, 9223372036854775807),\n",
       "   (2, 1),\n",
       "   (3, 9223372036854775807),\n",
       "   (4, 9223372036854775807),\n",
       "   (5, 0),\n",
       "   (6, 9223372036854775807)]),\n",
       " (6, [(0, 10), (1, 12), (2, 5), (3, 7), (4, 3), (5, 6), (6, 0)])]"
      ]
     },
     "execution_count": 5,
     "metadata": {},
     "output_type": "execute_result"
    }
   ],
   "source": [
    "def floyd_warshall(A):\n",
    "\n",
    "    D = A.dup()\n",
    "    num_vertices = D.nrows\n",
    "\n",
    "    for k in range(num_vertices):\n",
    "        \n",
    "        D_col = Matrix(dtypes.INT32, nrows=num_vertices, ncols=num_vertices)\n",
    "        D_row = Matrix(dtypes.INT32, nrows=num_vertices, ncols=num_vertices)\n",
    "        D_col[:, k] << D[:, k]\n",
    "        D_row[k, :] << D[k, :]\n",
    "\n",
    "        D << D.ewise_add(D_col.mxm(D_row, semiring.min_plus), gb.binary.min)\n",
    "\n",
    "    for i in range(D.nrows):\n",
    "        for j in range(D.ncols):\n",
    "            if D[i,j].value is None:\n",
    "                D[i,j] = float('inf')\n",
    "\n",
    "    for i in range(num_vertices):\n",
    "        D[i, i] = 0\n",
    "    \n",
    "    rows, cols, values = D.to_coo()\n",
    "    result = []\n",
    "    for i in range(D.nrows):\n",
    "        row_data = [(col, val) for r, col, val in zip(rows, cols, values) if r == i]\n",
    "        result.append((i, row_data))\n",
    "    return result\n",
    "\n",
    "floyd_warshall(A)"
   ]
  },
  {
   "cell_type": "markdown",
   "id": "fef62e1d-9420-4c27-a4d0-7b4ca0dc2966",
   "metadata": {},
   "source": [
    "### Вычисление транзитивного замыкания"
   ]
  },
  {
   "attachments": {
    "923a97c7-11e5-4f26-afa1-acfc9dbdec84.png": {
     "image/png": "[encoded data removed]"
    }
   },
   "cell_type": "markdown",
   "id": "8b5dc260-8883-41f3-aad3-eb7a1a485558",
   "metadata": {},
   "source": [
    "![image.png](attachment:923a97c7-11e5-4f26-afa1-acfc9dbdec84.png)"
   ]
  },
  {
   "cell_type": "code",
   "execution_count": 7,
   "id": "368f3524-3728-4786-b61a-c7b89a555764",
   "metadata": {},
   "outputs": [
    {
     "data": {
      "text/plain": [
       "[(0, [(0, 0), (1, 2), (2, 6), (3, 3), (4, 9), (5, 7), (6, 6)]),\n",
       " (1, [(0, 14), (1, 0), (2, 9), (3, 11), (4, 7), (5, 10), (6, 4)]),\n",
       " (2,\n",
       "  [(0, 9223372036854775807),\n",
       "   (1, 9223372036854775807),\n",
       "   (2, 0),\n",
       "   (3, 9223372036854775807),\n",
       "   (4, 9223372036854775807),\n",
       "   (5, 1),\n",
       "   (6, 9223372036854775807)]),\n",
       " (3, [(0, 3), (1, 5), (2, 3), (3, 0), (4, 12), (5, 4), (6, 9)]),\n",
       " (4,\n",
       "  [(0, 9223372036854775807),\n",
       "   (1, 9223372036854775807),\n",
       "   (2, 8),\n",
       "   (3, 9223372036854775807),\n",
       "   (4, 0),\n",
       "   (5, 7),\n",
       "   (6, 9223372036854775807)]),\n",
       " (5,\n",
       "  [(0, 9223372036854775807),\n",
       "   (1, 9223372036854775807),\n",
       "   (2, 1),\n",
       "   (3, 9223372036854775807),\n",
       "   (4, 9223372036854775807),\n",
       "   (5, 0),\n",
       "   (6, 9223372036854775807)]),\n",
       " (6, [(0, 10), (1, 12), (2, 5), (3, 7), (4, 3), (5, 6), (6, 0)])]"
      ]
     },
     "execution_count": 7,
     "metadata": {},
     "output_type": "execute_result"
    }
   ],
   "source": [
    "def transitive_closure(A):\n",
    "    n = A.nrows\n",
    "\n",
    "    I = Matrix(dtypes.INT64, nrows=n, ncols=n)\n",
    "    for i in range(n):\n",
    "        I[i, i] << 1\n",
    "\n",
    "    D = I.dup()\n",
    "\n",
    "    for _ in range(n):\n",
    "        D << D.mxm(A, semiring.min_plus).ewise_add(I, binary.min)\n",
    "\n",
    "    for i in range(n):\n",
    "        for j in range(n):\n",
    "            if not D[i,j].value:\n",
    "                D[i,j] = float('inf')\n",
    "    \n",
    "    rows, cols, values = D.to_coo()\n",
    "    result = []\n",
    "    for i in range(D.nrows):\n",
    "        row_data = [(col, val if val == 9223372036854775807 else val-1) for r, col, val in zip(rows, cols, values) if r == i]\n",
    "        result.append((i, row_data))\n",
    "\n",
    "    return result\n",
    "\n",
    "transitive_closure(A)"
   ]
  },
  {
   "cell_type": "code",
   "execution_count": 10,
   "id": "97f6a1d8-1854-44ff-a97c-e354fa9815d3",
   "metadata": {},
   "outputs": [],
   "source": [
    "answer1 = np.array([14, 0, 9, 11, 7, 10, 4], dtype=np.int64)\n",
    "answer2 = [\n",
    "    (0, [(0, 0), (1, 2), (2, 6), (3, 3), (4, 9), (5, 7), (6, 6)]),\n",
    "    (1, [(0, 14), (1, 0), (2, 9), (3, 11), (4, 7), (5, 10), (6, 4)])\n",
    "]\n",
    "answer3 = [(0, [(0, 0), (1, 2), (2, 6), (3, 3), (4, 9), (5, 7), (6, 6)]),\n",
    " (1, [(0, 14), (1, 0), (2, 9), (3, 11), (4, 7), (5, 10), (6, 4)]),\n",
    " (2, [(0, 9223372036854775807), (1, 9223372036854775807), (2, 0), (3, 9223372036854775807), (4, 9223372036854775807), (5, 1), (6, 9223372036854775807)]),\n",
    " (3, [(0, 3), (1, 5), (2, 3), (3, 0), (4, 12), (5, 4), (6, 9)]),\n",
    " (4, [(0, 9223372036854775807), (1, 9223372036854775807), (2, 8), (3, 9223372036854775807), (4, 0), (5, 7), (6, 9223372036854775807)]),\n",
    " (5, [(0, 9223372036854775807), (1, 9223372036854775807), (2, 1), (3, 9223372036854775807), (4, 9223372036854775807), (5, 0), (6, 9223372036854775807)]),\n",
    " (6, [(0, 10), (1, 12), (2, 5), (3, 7), (4, 3), (5, 6), (6, 0)])]\n",
    "\n",
    "assert (bellman_ford(A, 1) == answer1).all()\n",
    "assert (bellman_ford_modified(A, [0,1]) == answer2)\n",
    "assert (floyd_warshall(A) == answer3)\n",
    "assert (transitive_closure(A) == answer3)"
   ]
  },
  {
   "cell_type": "code",
   "execution_count": 8,
   "id": "2fc189fc-58d2-45a3-becf-5899896c5294",
   "metadata": {},
   "outputs": [],
   "source": [
    "M1 = mmread('matrices/GD01_b.mtx')\n",
    "M2 = mmread('matrices/jgl009.mtx')\n",
    "M3 = mmread('matrices/rgg010.mtx')\n",
    "M4 = mmread('matrices/Tina_AskCal.mtx')\n",
    "M5 = mmread('matrices/Trefethen_20.mtx')\n",
    "M6 = mmread('matrices/Trefethen_20b.mtx')\n",
    "\n",
    "matrices = [M1, M2, M3, M4, M5, M6]"
   ]
  },
  {
   "cell_type": "code",
   "execution_count": 115,
   "id": "c0258cee-4b27-4ad7-973b-15c073fa028c",
   "metadata": {},
   "outputs": [
    {
     "name": "stdout",
     "output_type": "stream",
     "text": [
      "Матрица № 1\n",
      "Bellman-Ford: 1.49 ms ± 267 µs per loop (mean ± std. dev. of 7 runs, 100 loops each)\n",
      "Bellman-Ford modified: 2.57 ms ± 150 µs per loop (mean ± std. dev. of 7 runs, 100 loops each)\n",
      "Floyd-Warshall: 120 ms ± 58 ms per loop (mean ± std. dev. of 7 runs, 10 loops each)\n",
      "Transitive Closure: 48.1 ms ± 2.48 ms per loop (mean ± std. dev. of 7 runs, 10 loops each)\n",
      "\n",
      "Матрица № 2\n",
      "Bellman-Ford: 825 µs ± 363 µs per loop (mean ± std. dev. of 7 runs, 1,000 loops each)\n",
      "Bellman-Ford modified: 2.41 ms ± 455 µs per loop (mean ± std. dev. of 7 runs, 100 loops each)\n",
      "Floyd-Warshall: 38.8 ms ± 19.2 ms per loop (mean ± std. dev. of 7 runs, 10 loops each)\n",
      "Transitive Closure: 20 ms ± 5.25 ms per loop (mean ± std. dev. of 7 runs, 100 loops each)\n",
      "\n",
      "Матрица № 3\n",
      "Bellman-Ford: 945 µs ± 289 µs per loop (mean ± std. dev. of 7 runs, 1,000 loops each)\n",
      "Bellman-Ford modified: 2.25 ms ± 184 µs per loop (mean ± std. dev. of 7 runs, 100 loops each)\n",
      "Floyd-Warshall: 36 ms ± 2.9 ms per loop (mean ± std. dev. of 7 runs, 10 loops each)\n",
      "Transitive Closure: 15.5 ms ± 1.23 ms per loop (mean ± std. dev. of 7 runs, 100 loops each)\n",
      "\n",
      "Матрица № 4\n",
      "Bellman-Ford: 894 µs ± 94.1 µs per loop (mean ± std. dev. of 7 runs, 1,000 loops each)\n",
      "Bellman-Ford modified: 2.31 ms ± 440 µs per loop (mean ± std. dev. of 7 runs, 1,000 loops each)\n",
      "Floyd-Warshall: 28.2 ms ± 2.94 ms per loop (mean ± std. dev. of 7 runs, 10 loops each)\n",
      "Transitive Closure: 17.8 ms ± 484 µs per loop (mean ± std. dev. of 7 runs, 100 loops each)\n",
      "\n",
      "Матрица № 5\n",
      "Bellman-Ford: The slowest run took 4.70 times longer than the fastest. This could mean that an intermediate result is being cached.\n",
      "1.1 ms ± 837 µs per loop (mean ± std. dev. of 7 runs, 1,000 loops each)\n",
      "Bellman-Ford modified: 6.51 ms ± 1.22 ms per loop (mean ± std. dev. of 7 runs, 100 loops each)\n",
      "Floyd-Warshall: 224 ms ± 69.2 ms per loop (mean ± std. dev. of 7 runs, 1 loop each)\n",
      "Transitive Closure: 110 ms ± 33.6 ms per loop (mean ± std. dev. of 7 runs, 10 loops each)\n",
      "\n",
      "Матрица № 6\n",
      "Bellman-Ford: The slowest run took 4.46 times longer than the fastest. This could mean that an intermediate result is being cached.\n",
      "2 ms ± 1.16 ms per loop (mean ± std. dev. of 7 runs, 100 loops each)\n",
      "Bellman-Ford modified: 3.42 ms ± 489 µs per loop (mean ± std. dev. of 7 runs, 100 loops each)\n",
      "Floyd-Warshall: 107 ms ± 24.7 ms per loop (mean ± std. dev. of 7 runs, 10 loops each)\n",
      "Transitive Closure: 94 ms ± 31.6 ms per loop (mean ± std. dev. of 7 runs, 10 loops each)\n",
      "\n"
     ]
    }
   ],
   "source": [
    "def algorithm_running_time(matrices):\n",
    "    i = 1\n",
    "    for matrix in matrices:\n",
    "        print('Матрица №', i)\n",
    "        print('Bellman-Ford:', end=' ')\n",
    "        %timeit bellman_ford(matrix, 0)\n",
    "        print('Bellman-Ford modified:', end=' ')\n",
    "        %timeit bellman_ford_modified(matrix, [0, 1])\n",
    "        print('Floyd-Warshall:', end=' ')\n",
    "        %timeit floyd_warshall(matrix)\n",
    "        print('Transitive Closure:', end=' ')\n",
    "        %timeit transitive_closure(matrix)\n",
    "        print()\n",
    "        i += 1\n",
    "\n",
    "algorithm_running_time(matrices)"
   ]
  },
  {
   "cell_type": "markdown",
   "id": "c3a81a15-397c-4b4e-a2b6-09c4e175465b",
   "metadata": {},
   "source": [
    "Поиск кратчайших путей для одной и двух вершин в обычном и модифицированном Bellman-Ford сильно быстрее поиска для всех вершин в Floyd-Warshall и Transitive Closure. Floyd-Warshall чуть быстрее транзитивного замыкания."
   ]
  },
  {
   "cell_type": "markdown",
   "id": "0fd07b80-671d-4125-baaf-099a24c347c2",
   "metadata": {},
   "source": [
    "### Зависимость времени работы алгоритмов от размера графа"
   ]
  },
  {
   "cell_type": "code",
   "execution_count": 9,
   "id": "23820c76-a7c9-4b4b-8f36-a6285aa52f38",
   "metadata": {},
   "outputs": [],
   "source": [
    "def generate_random_undirected_graph(num_vertices, sparsity):\n",
    "\n",
    "    graph = Matrix(dtypes.INT32, num_vertices, num_vertices)\n",
    "\n",
    "    for i in range(num_vertices):\n",
    "        for j in range(i + 1, num_vertices):\n",
    "            if random.random() < sparsity:\n",
    "                graph[i, j] = 1.0\n",
    "                graph[j, i] = 1.0\n",
    "\n",
    "    return graph"
   ]
  },
  {
   "cell_type": "markdown",
   "id": "bdf3d21e-0f99-4726-b155-ff51028e1f50",
   "metadata": {},
   "source": [
    "Сгенерируем графы с количеством вершин от 5 до 300, степень разреженности одинаковая."
   ]
  },
  {
   "cell_type": "code",
   "execution_count": 15,
   "id": "afc656d9-1d03-4fe1-9eba-38f4bb41c06b",
   "metadata": {},
   "outputs": [],
   "source": [
    "def generate_graphs(node_probs_list):\n",
    "    return [generate_random_undirected_graph(nodes, prob) for nodes, prob in node_probs_list]\n",
    "\n",
    "graph_specs = [\n",
    "    (5, 0.5),\n",
    "    (10, 0.5),\n",
    "    (30, 0.5),\n",
    "    (50, 0.5),\n",
    "    (100, 0.5),\n",
    "    (150, 0.5),\n",
    "    (200, 0.5),\n",
    "    (250, 0.5),\n",
    "    (300, 0.5)\n",
    "]\n",
    "\n",
    "matrices = generate_graphs(graph_specs)"
   ]
  },
  {
   "cell_type": "code",
   "execution_count": 16,
   "id": "15a90f14-dc0c-499c-a34a-c91f40b5a078",
   "metadata": {},
   "outputs": [
    {
     "name": "stdout",
     "output_type": "stream",
     "text": [
      "Матрица № 1\n",
      "Bellman-Ford: 542 µs ± 13.5 µs per loop (mean ± std. dev. of 7 runs, 1,000 loops each)\n",
      "Bellman-Ford modified: 1.03 ms ± 11.8 µs per loop (mean ± std. dev. of 7 runs, 1,000 loops each)\n",
      "Floyd-Warshall: 6.92 ms ± 121 µs per loop (mean ± std. dev. of 7 runs, 100 loops each)\n",
      "Transitive Closure: 3.19 ms ± 26.7 µs per loop (mean ± std. dev. of 7 runs, 100 loops each)\n",
      "\n",
      "Матрица № 2\n",
      "Bellman-Ford: 542 µs ± 5.46 µs per loop (mean ± std. dev. of 7 runs, 1,000 loops each)\n",
      "Bellman-Ford modified: 1.27 ms ± 18.8 µs per loop (mean ± std. dev. of 7 runs, 1,000 loops each)\n",
      "Floyd-Warshall: 20.5 ms ± 285 µs per loop (mean ± std. dev. of 7 runs, 10 loops each)\n",
      "Transitive Closure: 12 ms ± 160 µs per loop (mean ± std. dev. of 7 runs, 100 loops each)\n",
      "\n",
      "Матрица № 3\n",
      "Bellman-Ford: 603 µs ± 78.3 µs per loop (mean ± std. dev. of 7 runs, 1,000 loops each)\n",
      "Bellman-Ford modified: 2.59 ms ± 100 µs per loop (mean ± std. dev. of 7 runs, 100 loops each)\n",
      "Floyd-Warshall: 176 ms ± 3.52 ms per loop (mean ± std. dev. of 7 runs, 10 loops each)\n",
      "Transitive Closure: 151 ms ± 1.13 ms per loop (mean ± std. dev. of 7 runs, 10 loops each)\n",
      "\n",
      "Матрица № 4\n",
      "Bellman-Ford: 598 µs ± 9.34 µs per loop (mean ± std. dev. of 7 runs, 1,000 loops each)\n",
      "Bellman-Ford modified: 4.17 ms ± 432 µs per loop (mean ± std. dev. of 7 runs, 100 loops each)\n",
      "Floyd-Warshall: 596 ms ± 6.65 ms per loop (mean ± std. dev. of 7 runs, 1 loop each)\n",
      "Transitive Closure: 568 ms ± 3.86 ms per loop (mean ± std. dev. of 7 runs, 1 loop each)\n",
      "\n",
      "Матрица № 5\n",
      "Bellman-Ford: 747 µs ± 13.5 µs per loop (mean ± std. dev. of 7 runs, 1,000 loops each)\n",
      "Bellman-Ford modified: 7.25 ms ± 61 µs per loop (mean ± std. dev. of 7 runs, 100 loops each)\n",
      "Floyd-Warshall: 3.74 s ± 20.4 ms per loop (mean ± std. dev. of 7 runs, 1 loop each)\n",
      "Transitive Closure: 3.88 s ± 136 ms per loop (mean ± std. dev. of 7 runs, 1 loop each)\n",
      "\n",
      "Матрица № 6\n",
      "Bellman-Ford: 977 µs ± 9.66 µs per loop (mean ± std. dev. of 7 runs, 1,000 loops each)\n",
      "Bellman-Ford modified: 10.8 ms ± 182 µs per loop (mean ± std. dev. of 7 runs, 100 loops each)\n",
      "Floyd-Warshall: 11.7 s ± 217 ms per loop (mean ± std. dev. of 7 runs, 1 loop each)\n",
      "Transitive Closure: 12.2 s ± 283 ms per loop (mean ± std. dev. of 7 runs, 1 loop each)\n",
      "\n",
      "Матрица № 7\n",
      "Bellman-Ford: 1.28 ms ± 5.97 µs per loop (mean ± std. dev. of 7 runs, 1,000 loops each)\n",
      "Bellman-Ford modified: 14.8 ms ± 207 µs per loop (mean ± std. dev. of 7 runs, 100 loops each)\n",
      "Floyd-Warshall: 26.5 s ± 356 ms per loop (mean ± std. dev. of 7 runs, 1 loop each)\n",
      "Transitive Closure: 28.3 s ± 434 ms per loop (mean ± std. dev. of 7 runs, 1 loop each)\n",
      "\n",
      "Матрица № 8\n",
      "Bellman-Ford: 1.67 ms ± 3.46 µs per loop (mean ± std. dev. of 7 runs, 1,000 loops each)\n",
      "Bellman-Ford modified: 18.7 ms ± 151 µs per loop (mean ± std. dev. of 7 runs, 100 loops each)\n",
      "Floyd-Warshall: 50 s ± 104 ms per loop (mean ± std. dev. of 7 runs, 1 loop each)\n",
      "Transitive Closure: 53.7 s ± 179 ms per loop (mean ± std. dev. of 7 runs, 1 loop each)\n",
      "\n",
      "Матрица № 9\n",
      "Bellman-Ford: 2.18 ms ± 72.3 µs per loop (mean ± std. dev. of 7 runs, 100 loops each)\n",
      "Bellman-Ford modified: 21.5 ms ± 569 µs per loop (mean ± std. dev. of 7 runs, 10 loops each)\n",
      "Floyd-Warshall: 1min 26s ± 3.19 s per loop (mean ± std. dev. of 7 runs, 1 loop each)\n",
      "Transitive Closure: 1min 34s ± 1.18 s per loop (mean ± std. dev. of 7 runs, 1 loop each)\n",
      "\n"
     ]
    }
   ],
   "source": [
    "algorithm_running_time(matrices)"
   ]
  },
  {
   "cell_type": "markdown",
   "id": "c442220f-81f2-47bb-a08d-881386e8c830",
   "metadata": {},
   "source": [
    "Время работы всех реализаций растет с увеличением количества вершин в графах."
   ]
  },
  {
   "cell_type": "markdown",
   "id": "980745dd-db10-472a-8c29-8c9bf06a8f81",
   "metadata": {},
   "source": [
    "### Зависимость времени работы  от степени разреженности"
   ]
  },
  {
   "cell_type": "code",
   "execution_count": 10,
   "id": "8ee2643a-fa6f-4432-aabf-63b2891c89ba",
   "metadata": {},
   "outputs": [],
   "source": [
    "def generate_graphs(node_probs_list):\n",
    "    return [generate_random_undirected_graph(nodes, prob) for nodes, prob in node_probs_list]\n",
    "\n",
    "graph_specs = [\n",
    "    (50, 0.1),\n",
    "    (50, 0.2),\n",
    "    (50, 0.3),\n",
    "    (50, 0.4),\n",
    "    (50, 0.5),\n",
    "    (50, 0.6),\n",
    "    (50, 0.7),\n",
    "    (50, 0.8),\n",
    "    (50, 0.9)\n",
    "]\n",
    "\n",
    "matrices = generate_graphs(graph_specs)"
   ]
  },
  {
   "cell_type": "code",
   "execution_count": 11,
   "id": "630e671d-9928-4763-b0bc-c1fabd8228da",
   "metadata": {},
   "outputs": [
    {
     "name": "stdout",
     "output_type": "stream",
     "text": [
      "Матрица № 1\n",
      "Bellman-Ford: 882 µs ± 67.9 µs per loop (mean ± std. dev. of 7 runs, 1,000 loops each)\n",
      "Bellman-Ford modified: 14.4 ms ± 252 µs per loop (mean ± std. dev. of 7 runs, 100 loops each)\n",
      "Floyd-Warshall: 631 ms ± 3.96 ms per loop (mean ± std. dev. of 7 runs, 1 loop each)\n",
      "Transitive Closure: 588 ms ± 1.5 ms per loop (mean ± std. dev. of 7 runs, 1 loop each)\n",
      "\n",
      "Матрица № 2\n",
      "Bellman-Ford: 694 µs ± 787 ns per loop (mean ± std. dev. of 7 runs, 1,000 loops each)\n",
      "Bellman-Ford modified: 14.4 ms ± 339 µs per loop (mean ± std. dev. of 7 runs, 100 loops each)\n",
      "Floyd-Warshall: 633 ms ± 9.15 ms per loop (mean ± std. dev. of 7 runs, 1 loop each)\n",
      "Transitive Closure: 591 ms ± 6.43 ms per loop (mean ± std. dev. of 7 runs, 1 loop each)\n",
      "\n",
      "Матрица № 3\n",
      "Bellman-Ford: 566 µs ± 2.97 µs per loop (mean ± std. dev. of 7 runs, 1,000 loops each)\n",
      "Bellman-Ford modified: 14.1 ms ± 192 µs per loop (mean ± std. dev. of 7 runs, 100 loops each)\n",
      "Floyd-Warshall: 627 ms ± 3.44 ms per loop (mean ± std. dev. of 7 runs, 1 loop each)\n",
      "Transitive Closure: 654 ms ± 74.8 ms per loop (mean ± std. dev. of 7 runs, 1 loop each)\n",
      "\n",
      "Матрица № 4\n",
      "Bellman-Ford: 587 µs ± 15.9 µs per loop (mean ± std. dev. of 7 runs, 1,000 loops each)\n",
      "Bellman-Ford modified: 14.4 ms ± 225 µs per loop (mean ± std. dev. of 7 runs, 100 loops each)\n",
      "Floyd-Warshall: 649 ms ± 14 ms per loop (mean ± std. dev. of 7 runs, 1 loop each)\n",
      "Transitive Closure: 618 ms ± 5.95 ms per loop (mean ± std. dev. of 7 runs, 1 loop each)\n",
      "\n",
      "Матрица № 5\n",
      "Bellman-Ford: 588 µs ± 8.89 µs per loop (mean ± std. dev. of 7 runs, 1,000 loops each)\n",
      "Bellman-Ford modified: 14.4 ms ± 128 µs per loop (mean ± std. dev. of 7 runs, 100 loops each)\n",
      "Floyd-Warshall: 643 ms ± 5.77 ms per loop (mean ± std. dev. of 7 runs, 1 loop each)\n",
      "Transitive Closure: 619 ms ± 7.69 ms per loop (mean ± std. dev. of 7 runs, 1 loop each)\n",
      "\n",
      "Матрица № 6\n",
      "Bellman-Ford: 583 µs ± 3.13 µs per loop (mean ± std. dev. of 7 runs, 1,000 loops each)\n",
      "Bellman-Ford modified: 14.4 ms ± 203 µs per loop (mean ± std. dev. of 7 runs, 100 loops each)\n",
      "Floyd-Warshall: 644 ms ± 22.5 ms per loop (mean ± std. dev. of 7 runs, 1 loop each)\n",
      "Transitive Closure: 621 ms ± 8.78 ms per loop (mean ± std. dev. of 7 runs, 1 loop each)\n",
      "\n",
      "Матрица № 7\n",
      "Bellman-Ford: 584 µs ± 10.7 µs per loop (mean ± std. dev. of 7 runs, 1,000 loops each)\n",
      "Bellman-Ford modified: 14.3 ms ± 90.1 µs per loop (mean ± std. dev. of 7 runs, 100 loops each)\n",
      "Floyd-Warshall: 638 ms ± 5.66 ms per loop (mean ± std. dev. of 7 runs, 1 loop each)\n",
      "Transitive Closure: 611 ms ± 3.34 ms per loop (mean ± std. dev. of 7 runs, 1 loop each)\n",
      "\n",
      "Матрица № 8\n",
      "Bellman-Ford: 573 µs ± 4.63 µs per loop (mean ± std. dev. of 7 runs, 1,000 loops each)\n",
      "Bellman-Ford modified: 14.3 ms ± 194 µs per loop (mean ± std. dev. of 7 runs, 100 loops each)\n",
      "Floyd-Warshall: 637 ms ± 3.31 ms per loop (mean ± std. dev. of 7 runs, 1 loop each)\n",
      "Transitive Closure: 621 ms ± 9.82 ms per loop (mean ± std. dev. of 7 runs, 1 loop each)\n",
      "\n",
      "Матрица № 9\n",
      "Bellman-Ford: 559 µs ± 2.51 µs per loop (mean ± std. dev. of 7 runs, 1,000 loops each)\n",
      "Bellman-Ford modified: 14.3 ms ± 356 µs per loop (mean ± std. dev. of 7 runs, 100 loops each)\n",
      "Floyd-Warshall: 725 ms ± 120 ms per loop (mean ± std. dev. of 7 runs, 1 loop each)\n",
      "Transitive Closure: 653 ms ± 29.9 ms per loop (mean ± std. dev. of 7 runs, 1 loop each)\n",
      "\n"
     ]
    }
   ],
   "source": [
    "algorithm_running_time(matrices)"
   ]
  },
  {
   "cell_type": "markdown",
   "id": "e0983c1b-e0a5-487f-8e03-b07eb7bc8922",
   "metadata": {},
   "source": [
    "Bellman-Ford modified, Floyd-Warshall и Transitive Closure практически не зависят, для Bellman-Ford наблюдается небольшое снижение времени с уменьшением разреженности."
   ]
  },
  {
   "cell_type": "markdown",
   "id": "a515f75e-7223-4310-b27b-4a525c5b2348",
   "metadata": {},
   "source": [
    "### Выбор количества вершин для поиска в модифицированном Bellman-Ford"
   ]
  },
  {
   "cell_type": "code",
   "execution_count": 15,
   "id": "67802e0c-c4bd-4b8d-9609-3126fdef6bc3",
   "metadata": {},
   "outputs": [],
   "source": [
    "def algorithm_running_time(matrix):\n",
    "    s = [0]\n",
    "    i = 1\n",
    "    while i < 102:\n",
    "        print('Количество стартовых вершин для Bellman-Ford =', len(s))\n",
    "        print('Bellman-Ford modified:', end=' ')\n",
    "        %timeit bellman_ford_modified(matrix, s)\n",
    "        print('Floyd-Warshall:', end=' ')\n",
    "        %timeit floyd_warshall(matrix)\n",
    "        print('Transitive Closure:', end=' ')\n",
    "        %timeit transitive_closure(matrix)\n",
    "        print()\n",
    "        for _ in range(10):\n",
    "            s.append(i)\n",
    "            i += 1"
   ]
  },
  {
   "cell_type": "code",
   "execution_count": 16,
   "id": "2ce70cb1-b514-48f8-b15c-e531a32d3399",
   "metadata": {},
   "outputs": [
    {
     "name": "stdout",
     "output_type": "stream",
     "text": [
      "Количество стартовых вершин для Bellman-Ford = 1\n",
      "Bellman-Ford modified: 3.66 ms ± 92.8 µs per loop (mean ± std. dev. of 7 runs, 100 loops each)\n",
      "Floyd-Warshall: 4.2 s ± 72.7 ms per loop (mean ± std. dev. of 7 runs, 1 loop each)\n",
      "Transitive Closure: 4.26 s ± 16.5 ms per loop (mean ± std. dev. of 7 runs, 1 loop each)\n",
      "\n",
      "Количество стартовых вершин для Bellman-Ford = 11\n",
      "Bellman-Ford modified: 71.4 ms ± 911 µs per loop (mean ± std. dev. of 7 runs, 10 loops each)\n",
      "Floyd-Warshall: 4.17 s ± 21.1 ms per loop (mean ± std. dev. of 7 runs, 1 loop each)\n",
      "Transitive Closure: 4.27 s ± 28.7 ms per loop (mean ± std. dev. of 7 runs, 1 loop each)\n",
      "\n",
      "Количество стартовых вершин для Bellman-Ford = 21\n",
      "Bellman-Ford modified: 212 ms ± 6.73 ms per loop (mean ± std. dev. of 7 runs, 1 loop each)\n",
      "Floyd-Warshall: 4.21 s ± 62.5 ms per loop (mean ± std. dev. of 7 runs, 1 loop each)\n",
      "Transitive Closure: 4.25 s ± 8.68 ms per loop (mean ± std. dev. of 7 runs, 1 loop each)\n",
      "\n",
      "Количество стартовых вершин для Bellman-Ford = 31\n",
      "Bellman-Ford modified: 404 ms ± 3.77 ms per loop (mean ± std. dev. of 7 runs, 1 loop each)\n",
      "Floyd-Warshall: 4.28 s ± 117 ms per loop (mean ± std. dev. of 7 runs, 1 loop each)\n",
      "Transitive Closure: 4.24 s ± 10.7 ms per loop (mean ± std. dev. of 7 runs, 1 loop each)\n",
      "\n",
      "Количество стартовых вершин для Bellman-Ford = 41\n",
      "Bellman-Ford modified: 668 ms ± 8.64 ms per loop (mean ± std. dev. of 7 runs, 1 loop each)\n",
      "Floyd-Warshall: 4.38 s ± 369 ms per loop (mean ± std. dev. of 7 runs, 1 loop each)\n",
      "Transitive Closure: 4.32 s ± 55.9 ms per loop (mean ± std. dev. of 7 runs, 1 loop each)\n",
      "\n",
      "Количество стартовых вершин для Bellman-Ford = 51\n",
      "Bellman-Ford modified: 993 ms ± 9.17 ms per loop (mean ± std. dev. of 7 runs, 1 loop each)\n",
      "Floyd-Warshall: 4.18 s ± 27.5 ms per loop (mean ± std. dev. of 7 runs, 1 loop each)\n",
      "Transitive Closure: 4.33 s ± 152 ms per loop (mean ± std. dev. of 7 runs, 1 loop each)\n",
      "\n",
      "Количество стартовых вершин для Bellman-Ford = 61\n",
      "Bellman-Ford modified: 1.4 s ± 15.1 ms per loop (mean ± std. dev. of 7 runs, 1 loop each)\n",
      "Floyd-Warshall: 4.27 s ± 123 ms per loop (mean ± std. dev. of 7 runs, 1 loop each)\n",
      "Transitive Closure: 4.27 s ± 11.7 ms per loop (mean ± std. dev. of 7 runs, 1 loop each)\n",
      "\n",
      "Количество стартовых вершин для Bellman-Ford = 71\n",
      "Bellman-Ford modified: 1.86 s ± 19.9 ms per loop (mean ± std. dev. of 7 runs, 1 loop each)\n",
      "Floyd-Warshall: 4.45 s ± 181 ms per loop (mean ± std. dev. of 7 runs, 1 loop each)\n",
      "Transitive Closure: 4.39 s ± 255 ms per loop (mean ± std. dev. of 7 runs, 1 loop each)\n",
      "\n",
      "Количество стартовых вершин для Bellman-Ford = 81\n",
      "Bellman-Ford modified: 2.4 s ± 28.2 ms per loop (mean ± std. dev. of 7 runs, 1 loop each)\n",
      "Floyd-Warshall: 4.18 s ± 12.7 ms per loop (mean ± std. dev. of 7 runs, 1 loop each)\n",
      "Transitive Closure: 4.26 s ± 19.9 ms per loop (mean ± std. dev. of 7 runs, 1 loop each)\n",
      "\n",
      "Количество стартовых вершин для Bellman-Ford = 91\n",
      "Bellman-Ford modified: 3.1 s ± 165 ms per loop (mean ± std. dev. of 7 runs, 1 loop each)\n",
      "Floyd-Warshall: 5.21 s ± 739 ms per loop (mean ± std. dev. of 7 runs, 1 loop each)\n",
      "Transitive Closure: 4.69 s ± 398 ms per loop (mean ± std. dev. of 7 runs, 1 loop each)\n",
      "\n",
      "Количество стартовых вершин для Bellman-Ford = 101\n",
      "Bellman-Ford modified: 4.03 s ± 227 ms per loop (mean ± std. dev. of 7 runs, 1 loop each)\n",
      "Floyd-Warshall: 4.59 s ± 317 ms per loop (mean ± std. dev. of 7 runs, 1 loop each)\n",
      "Transitive Closure: 4.65 s ± 115 ms per loop (mean ± std. dev. of 7 runs, 1 loop each)\n",
      "\n"
     ]
    }
   ],
   "source": [
    "graph_specs = [ (101, 0.5) ]\n",
    "\n",
    "matrix = generate_graphs(graph_specs)[0]\n",
    "\n",
    "algorithm_running_time(matrix)"
   ]
  },
  {
   "cell_type": "markdown",
   "id": "789a5b20-175a-43dd-ac47-aec367713421",
   "metadata": {},
   "source": [
    "Для графа со 101 вершиной Bellman-Ford показывает более высокую скорость по сравнению с Floyd-Warshall и Transitive Closure, даже если выбраны вообще все вершины."
   ]
  },
  {
   "cell_type": "markdown",
   "id": "4705d999-7ebd-4349-b6e5-9e989a4325a1",
   "metadata": {},
   "source": [
    "### push/pull direction optimization"
   ]
  },
  {
   "cell_type": "code",
   "execution_count": 32,
   "id": "7a7534fe-5c43-4414-a2ee-214574898e5d",
   "metadata": {},
   "outputs": [],
   "source": [
    "def bellman_ford_push_pull(A, s, push_pull_percent):\n",
    "    v = Vector(A.dtype, A.nrows)\n",
    "    v[s] << 0\n",
    "    w = v.dup()\n",
    "    \n",
    "    while True:\n",
    "        w_old = w.dup()\n",
    "        # push\n",
    "        if push_pull_percent == 0.0:\n",
    "            w(binary.min) << w.vxm(A, semiring.min_plus)\n",
    "        # pull\n",
    "        elif push_pull_percent == 1.0:\n",
    "            w(binary.min) << A.T.mxv(w, semiring.min_plus)\n",
    "        # порог наполненности\n",
    "        else:\n",
    "            if w.nvals / w.size > push_pull_percent:\n",
    "                w(binary.min) << A.T.mxv(w, semiring.min_plus)\n",
    "            else:\n",
    "                w(binary.min) << w.vxm(A, semiring.min_plus)\n",
    "        \n",
    "        if w.isequal(w_old):\n",
    "            break\n",
    "            \n",
    "    indices, values = w.to_coo()\n",
    "    return values"
   ]
  },
  {
   "cell_type": "code",
   "execution_count": 34,
   "id": "eaa3176a-26ef-41c4-90a1-2b2e926b8882",
   "metadata": {},
   "outputs": [
    {
     "name": "stdout",
     "output_type": "stream",
     "text": [
      "push/pull = 0.0\n",
      "6.75 ms ± 175 µs per loop (mean ± std. dev. of 7 runs, 100 loops each)\n",
      "\n",
      "push/pull = 0.1\n",
      "6.8 ms ± 274 µs per loop (mean ± std. dev. of 7 runs, 100 loops each)\n",
      "\n",
      "push/pull = 0.3\n",
      "6.78 ms ± 147 µs per loop (mean ± std. dev. of 7 runs, 100 loops each)\n",
      "\n",
      "push/pull = 0.7\n",
      "6.71 ms ± 128 µs per loop (mean ± std. dev. of 7 runs, 100 loops each)\n",
      "\n",
      "push/pull = 1.0\n",
      "6.73 ms ± 155 µs per loop (mean ± std. dev. of 7 runs, 100 loops each)\n",
      "\n"
     ]
    }
   ],
   "source": [
    "graph_specs = [ (1000, 0.5) ]\n",
    "matrix = generate_graphs(graph_specs)[0]\n",
    "\n",
    "for i in [0.0, 0.1, 0.3, 0.7, 1.0]:\n",
    "    print('push/pull =', i)\n",
    "    %timeit bellman_ford_push_pull(matrix, 4, i)\n",
    "    print()"
   ]
  },
  {
   "cell_type": "markdown",
   "id": "cb87766f-65eb-402a-ac5d-721c8ac929a8",
   "metadata": {},
   "source": [
    "Для алгоритма Bellman-Ford использование различных стратегий (всегда push, всегда pull, использовать порог наполненности вектора) не сильно повлияло на скорость его работы."
   ]
  }
 ],
 "metadata": {
  "kernelspec": {
   "display_name": "Python 3 (ipykernel)",
   "language": "python",
   "name": "python3"
  },
  "language_info": {
   "codemirror_mode": {
    "name": "ipython",
    "version": 3
   },
   "file_extension": ".py",
   "mimetype": "text/x-python",
   "name": "python",
   "nbconvert_exporter": "python",
   "pygments_lexer": "ipython3",
   "version": "3.10.0"
  }
 },
 "nbformat": 4,
 "nbformat_minor": 5
}
